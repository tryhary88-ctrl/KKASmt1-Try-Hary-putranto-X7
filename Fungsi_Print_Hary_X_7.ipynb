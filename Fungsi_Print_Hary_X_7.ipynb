{
  "nbformat": 4,
  "nbformat_minor": 0,
  "metadata": {
    "colab": {
      "provenance": [],
      "authorship_tag": "ABX9TyOrQ+EH91K+U88fN4/I2JPk",
      "include_colab_link": true
    },
    "kernelspec": {
      "name": "python3",
      "display_name": "Python 3"
    },
    "language_info": {
      "name": "python"
    }
  },
  "cells": [
    {
      "cell_type": "markdown",
      "metadata": {
        "id": "view-in-github",
        "colab_type": "text"
      },
      "source": [
        "<a href=\"https://colab.research.google.com/github/tryhary88-ctrl/KKASmt1-Try-Hary-putranto-X7/blob/main/Fungsi_Print_Hary_X_7.ipynb\" target=\"_parent\"><img src=\"https://colab.research.google.com/assets/colab-badge.svg\" alt=\"Open In Colab\"/></a>"
      ]
    },
    {
      "cell_type": "markdown",
      "source": [
        "Nama : Try Hary putranto\n",
        "\n",
        "Kelas : X.7\n",
        "\n",
        "No : 35"
      ],
      "metadata": {
        "id": "FaD0fLaXUvkm"
      }
    },
    {
      "cell_type": "markdown",
      "source": [
        "#Menampilkan Teks Bebas dengan Tanda Kutip"
      ],
      "metadata": {
        "id": "hSJyL7sEPQco"
      }
    },
    {
      "cell_type": "code",
      "execution_count": null,
      "metadata": {
        "colab": {
          "base_uri": "https://localhost:8080/"
        },
        "id": "aX_Vsu5eJlfl",
        "outputId": "43e3d4ba-a590-4930-b545-e9331a0e1c97"
      },
      "outputs": [
        {
          "output_type": "stream",
          "name": "stdout",
          "text": [
            "Hallo world\n"
          ]
        }
      ],
      "source": [
        "print(\"Hallo world\")"
      ]
    },
    {
      "cell_type": "markdown",
      "source": [
        "#Menampilkan Variabel Integer"
      ],
      "metadata": {
        "id": "DL3PsiEqQhMr"
      }
    },
    {
      "cell_type": "code",
      "source": [
        "print(\"try hary putranto\")"
      ],
      "metadata": {
        "colab": {
          "base_uri": "https://localhost:8080/"
        },
        "id": "DInAMVB6Ks-T",
        "outputId": "54d67be0-f9ab-4fd9-d872-7bf3f0afa78a"
      },
      "execution_count": null,
      "outputs": [
        {
          "output_type": "stream",
          "name": "stdout",
          "text": [
            "try hary putranto\n"
          ]
        }
      ]
    },
    {
      "cell_type": "code",
      "source": [
        "usia = 20\n",
        "print(usia)"
      ],
      "metadata": {
        "colab": {
          "base_uri": "https://localhost:8080/"
        },
        "id": "VL-pabSRMKcD",
        "outputId": "1ecd8d69-430a-4450-cbc3-7cf17bacd644"
      },
      "execution_count": null,
      "outputs": [
        {
          "output_type": "stream",
          "name": "stdout",
          "text": [
            "20\n"
          ]
        }
      ]
    },
    {
      "cell_type": "code",
      "source": [
        "\n",
        "beratBadan = 50\n",
        "print(beratBadan)"
      ],
      "metadata": {
        "colab": {
          "base_uri": "https://localhost:8080/"
        },
        "id": "8M7zbuLGM3-H",
        "outputId": "a0f3347f-1fc5-4b34-f2ce-546b5c4fac73"
      },
      "execution_count": null,
      "outputs": [
        {
          "output_type": "stream",
          "name": "stdout",
          "text": [
            "50\n"
          ]
        }
      ]
    },
    {
      "cell_type": "code",
      "source": [
        "tinggiBadan = 175\n",
        "print(tinggiBadan)"
      ],
      "metadata": {
        "colab": {
          "base_uri": "https://localhost:8080/"
        },
        "id": "ZNY1buN-NbGE",
        "outputId": "b0880bc4-f415-4b38-8ebe-cccdb4ecc4da"
      },
      "execution_count": null,
      "outputs": [
        {
          "output_type": "stream",
          "name": "stdout",
          "text": [
            "175\n"
          ]
        }
      ]
    },
    {
      "cell_type": "markdown",
      "source": [
        "#Menampilkan Teks bebas Dan Nilai Variabel"
      ],
      "metadata": {
        "id": "MPO8eVohPGFc"
      }
    },
    {
      "cell_type": "code",
      "source": [
        "print(\"Tinggi badan: \", tinggiBadan)"
      ],
      "metadata": {
        "colab": {
          "base_uri": "https://localhost:8080/"
        },
        "id": "F9OAzvRhOh7f",
        "outputId": "835bdf34-9f9a-4413-c499-fe95e9592111"
      },
      "execution_count": null,
      "outputs": [
        {
          "output_type": "stream",
          "name": "stdout",
          "text": [
            "Tinggi badan:  175\n"
          ]
        }
      ]
    },
    {
      "cell_type": "code",
      "source": [
        "print(\"Usia Anda: \" + str(usia))"
      ],
      "metadata": {
        "colab": {
          "base_uri": "https://localhost:8080/"
        },
        "id": "gpbVzeHhRd5X",
        "outputId": "a5eea7d6-ca03-4704-be1c-f5922344a505"
      },
      "execution_count": null,
      "outputs": [
        {
          "output_type": "stream",
          "name": "stdout",
          "text": [
            "Usia Anda: 20\n"
          ]
        }
      ]
    },
    {
      "cell_type": "code",
      "source": [
        "LuasMAN = 1.1\n",
        "print(\"Luas MAN adalah \" + str(LuasMAN) + \" kilometer persegi.\")"
      ],
      "metadata": {
        "id": "qP97L4KwSZdj",
        "colab": {
          "base_uri": "https://localhost:8080/"
        },
        "outputId": "0d6b8b03-0a25-4074-cd99-5bd60654e313"
      },
      "execution_count": null,
      "outputs": [
        {
          "output_type": "stream",
          "name": "stdout",
          "text": [
            "Luas MAN adalah 1.1 kilometer persegi.\n"
          ]
        }
      ]
    },
    {
      "cell_type": "code",
      "source": [
        "print(f\"Luas MAN adalah {LuasMAN} kilometer persegi.\")"
      ],
      "metadata": {
        "colab": {
          "base_uri": "https://localhost:8080/"
        },
        "id": "T0VTAn2fUBYM",
        "outputId": "ddcd3f86-cb4a-421f-8e33-8603ecd20fcf"
      },
      "execution_count": null,
      "outputs": [
        {
          "output_type": "stream",
          "name": "stdout",
          "text": [
            "Luas MAN adalah 1.1 kilometer persegi.\n"
          ]
        }
      ]
    },
    {
      "cell_type": "code",
      "source": [
        "harga_telur = 26000\n",
        "nama_pembeli = \"Hary\"\n",
        "\n",
        "print(\"Harga telur adalah\" , harga_telur , \"per kilogram\")\n",
        "print(\"Nama pembeli telur adalah\", nama_pembeli)"
      ],
      "metadata": {
        "id": "VTnNjwGKNHmX",
        "colab": {
          "base_uri": "https://localhost:8080/"
        },
        "outputId": "5c820746-6412-4c8a-a2ac-ff4a9773a1aa"
      },
      "execution_count": null,
      "outputs": [
        {
          "output_type": "stream",
          "name": "stdout",
          "text": [
            "Harga telur adalah 26000 per kilogram\n",
            "Nama pembeli telur adalah Hary\n"
          ]
        }
      ]
    },
    {
      "cell_type": "code",
      "source": [
        "harga_telur = 26000\n",
        "nama_pembeli = \"Hary\"\n",
        "\n",
        "print(\"Harga telur adalah\" + str(harga_telur) + \"per kilogram\")\n",
        "print(\"Nama pembeli telur adalah\" + nama_pembeli)"
      ],
      "metadata": {
        "colab": {
          "base_uri": "https://localhost:8080/"
        },
        "id": "TIfoaSzmQfPH",
        "outputId": "2bd3eda6-ae81-4201-ac3a-18948e9dfe4b"
      },
      "execution_count": null,
      "outputs": [
        {
          "output_type": "stream",
          "name": "stdout",
          "text": [
            "Harga telur adalah26000per kilogram\n",
            "Nama pembeli telur adalahHary\n"
          ]
        }
      ]
    },
    {
      "cell_type": "code",
      "source": [
        "print(f\"Harga telur adalah {harga_telur} per kilogram\")\n",
        "print(f\"Nama pembeli telur adalah {nama_pembeli}\")"
      ],
      "metadata": {
        "colab": {
          "base_uri": "https://localhost:8080/"
        },
        "id": "_03G2jufRp_G",
        "outputId": "c6cc3865-fd4b-425f-89f9-c0d863a13bb9"
      },
      "execution_count": null,
      "outputs": [
        {
          "output_type": "stream",
          "name": "stdout",
          "text": [
            "Harga telur adalah 26000 per kilogram\n",
            "Nama pembeli telur adalah Hary\n"
          ]
        }
      ]
    },
    {
      "cell_type": "markdown",
      "source": [
        "#Escape Character"
      ],
      "metadata": {
        "id": "v8gPDSK9VALr"
      }
    },
    {
      "cell_type": "code",
      "source": [
        "print(\"Nama: Try Hary putranto\")\n",
        "print(\"Kelas: X.7\")\n",
        "print(\"Nomor absen: 35\")"
      ],
      "metadata": {
        "colab": {
          "base_uri": "https://localhost:8080/"
        },
        "id": "7DmQRgw6VI_B",
        "outputId": "a256f850-a932-424d-db45-99f58b5e0506"
      },
      "execution_count": null,
      "outputs": [
        {
          "output_type": "stream",
          "name": "stdout",
          "text": [
            "Nama: Try Hary putranto\n",
            "Kelas: X.7\n",
            "Nomor absen: 35\n"
          ]
        }
      ]
    },
    {
      "cell_type": "code",
      "source": [
        "print(\"Nama\\t\\t: Try Hary putranto\\nKelas\\t\\t: X.7\\nNomor absen\\t: 29\")"
      ],
      "metadata": {
        "colab": {
          "base_uri": "https://localhost:8080/"
        },
        "id": "ZfGxJMdyVsJI",
        "outputId": "c28a0334-3d2d-483c-8086-72b4d32c9cb1"
      },
      "execution_count": null,
      "outputs": [
        {
          "output_type": "stream",
          "name": "stdout",
          "text": [
            "Nama\t\t: Try Hary putranto\n",
            "Kelas\t\t: X.7\n",
            "Nomor absen\t: 29\n"
          ]
        }
      ]
    },
    {
      "cell_type": "code",
      "source": [
        "print(\"\"\"Nama: Try Hary putranto\n",
        "Kelas: X.7\n",
        "Nomor absen: 35\"\"\")"
      ],
      "metadata": {
        "colab": {
          "base_uri": "https://localhost:8080/"
        },
        "id": "He-nwnI4WQ4C",
        "outputId": "ec58b89f-ba7d-4549-cec0-03b765b9baec"
      },
      "execution_count": null,
      "outputs": [
        {
          "output_type": "stream",
          "name": "stdout",
          "text": [
            "Nama: Try Hary putranto\n",
            "Kelas: X.7\n",
            "Nomor absen: 35\n"
          ]
        }
      ]
    },
    {
      "cell_type": "code",
      "source": [
        "print(\"Nama: Habib Jafar\")"
      ],
      "metadata": {
        "colab": {
          "base_uri": "https://localhost:8080/"
        },
        "id": "xuAlsukAQyG7",
        "outputId": "d535738f-0e33-4c69-d349-e64625cc1dd2"
      },
      "execution_count": null,
      "outputs": [
        {
          "output_type": "stream",
          "name": "stdout",
          "text": [
            "Nama: Habib Jafar\n"
          ]
        }
      ]
    },
    {
      "cell_type": "code",
      "source": [
        "print('Nama: Habib Jafar')"
      ],
      "metadata": {
        "colab": {
          "base_uri": "https://localhost:8080/"
        },
        "id": "QUZf3QDERmJN",
        "outputId": "51cfb56a-af62-4720-ca25-de2eb4cf4818"
      },
      "execution_count": null,
      "outputs": [
        {
          "output_type": "stream",
          "name": "stdout",
          "text": [
            "Nama: Habib Jafar\n"
          ]
        }
      ]
    },
    {
      "cell_type": "code",
      "source": [
        "print('Nama: Habib Ja\\'far')"
      ],
      "metadata": {
        "colab": {
          "base_uri": "https://localhost:8080/"
        },
        "id": "Bo79HCzjR0rS",
        "outputId": "ba98bb9c-6b96-4faa-c34e-b860906118ce"
      },
      "execution_count": null,
      "outputs": [
        {
          "output_type": "stream",
          "name": "stdout",
          "text": [
            "Nama: Habib Ja'far\n"
          ]
        }
      ]
    },
    {
      "cell_type": "code",
      "source": [
        "print(\"Nama: Habib Ja'far\")"
      ],
      "metadata": {
        "colab": {
          "base_uri": "https://localhost:8080/"
        },
        "id": "-kb-_8wPSJ6F",
        "outputId": "7842ef6f-30d0-49b4-fdf7-2af70e47bd13"
      },
      "execution_count": null,
      "outputs": [
        {
          "output_type": "stream",
          "name": "stdout",
          "text": [
            "Nama: Habib Ja'far\n"
          ]
        }
      ]
    },
    {
      "cell_type": "code",
      "source": [
        "print(\"Bu Shinta berkata, \\\"Tenang fokus sejenak!\\\".\")"
      ],
      "metadata": {
        "colab": {
          "base_uri": "https://localhost:8080/"
        },
        "id": "R9KutSHKSXta",
        "outputId": "49c9dca5-af82-414f-c42f-1d7d67598827"
      },
      "execution_count": null,
      "outputs": [
        {
          "output_type": "stream",
          "name": "stdout",
          "text": [
            "Bu Shinta berkata, \"Tenang fokus sejenak!\".\n"
          ]
        }
      ]
    },
    {
      "cell_type": "code",
      "source": [
        "print('Bu Shinta berkata, \"Tenang fokus sejenak!\".')"
      ],
      "metadata": {
        "colab": {
          "base_uri": "https://localhost:8080/"
        },
        "id": "H46xv4XkS0SQ",
        "outputId": "bc7d18de-53fe-4a28-e699-fc6625bb7904"
      },
      "execution_count": null,
      "outputs": [
        {
          "output_type": "stream",
          "name": "stdout",
          "text": [
            "Bu Shinta berkata, \"Tenang fokus sejenak!\".\n"
          ]
        }
      ]
    },
    {
      "cell_type": "code",
      "source": [
        "print(\"lokasi penyimpanan tugas KKA ada di local disk D:\\\\KKA\\\\Tugas\")"
      ],
      "metadata": {
        "colab": {
          "base_uri": "https://localhost:8080/"
        },
        "id": "rYKN5Z4qTfys",
        "outputId": "f4c7e9b1-c61b-421f-8116-7a3ccc0a88e5"
      },
      "execution_count": null,
      "outputs": [
        {
          "output_type": "stream",
          "name": "stdout",
          "text": [
            "lokasi penyimpanan tugas KKA ada di local disk D:\\KKA\\Tugas\n"
          ]
        }
      ]
    },
    {
      "cell_type": "markdown",
      "source": [
        "#Parameter Fungsi print"
      ],
      "metadata": {
        "id": "Er_8K4s7WATO"
      }
    },
    {
      "cell_type": "code",
      "source": [
        "Tanggal = 18\n",
        "Bulan = \"Februari\"\n",
        "Tahun = 2000\n",
        "\n",
        "#18-Februari-2000\n",
        "print(Tanggal)\n",
        "print(Bulan)\n",
        "print(Tahun)"
      ],
      "metadata": {
        "colab": {
          "base_uri": "https://localhost:8080/"
        },
        "id": "r4r58ftlWMEO",
        "outputId": "cdf6c561-3082-417f-989a-507f03e1f3d8"
      },
      "execution_count": null,
      "outputs": [
        {
          "output_type": "stream",
          "name": "stdout",
          "text": [
            "18\n",
            "Februari\n",
            "2000\n"
          ]
        }
      ]
    },
    {
      "cell_type": "code",
      "source": [
        "#18-februari-2000\n",
        "print(Tanggal, Bulan, Tahun, sep=\"_\")"
      ],
      "metadata": {
        "colab": {
          "base_uri": "https://localhost:8080/"
        },
        "id": "qe9NcdPkWwWS",
        "outputId": "b6700bfe-a78b-44c5-a4f7-b057df3ae4a9"
      },
      "execution_count": null,
      "outputs": [
        {
          "output_type": "stream",
          "name": "stdout",
          "text": [
            "18_Februari_2000\n"
          ]
        }
      ]
    },
    {
      "cell_type": "code",
      "source": [
        "#18-Februari-2000\n",
        "print(Tanggal, end=\"_\")\n",
        "print(Bulan, end=\"_\")\n",
        "print(Tahun)"
      ],
      "metadata": {
        "colab": {
          "base_uri": "https://localhost:8080/"
        },
        "id": "nZqa6vjxW_Z7",
        "outputId": "f6076f8a-04c7-4ca0-de0d-bfa3a9136292"
      },
      "execution_count": null,
      "outputs": [
        {
          "output_type": "stream",
          "name": "stdout",
          "text": [
            "18_Februari_2000\n"
          ]
        }
      ]
    }
  ]
}